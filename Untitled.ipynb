{
 "cells": [
  {
   "cell_type": "markdown",
   "id": "d536cd8e-3a7b-4b00-b27b-064bbd18dfd4",
   "metadata": {},
   "source": [
    "4. Dashboard or Visualization\n",
    "- Create a small dashboard or set of visualizations (using any tool you prefer: Tableau Public, Power BI, Streamlit, or a simple Matplotlib/Seaborn interactive notebook). Show key insights such as:\n",
    "- Top 10 movies by revenue or vote_average.\n",
    "- Distribution of genres or languages.\n",
    "- (Optional) Interactive filter for year or runtime."
   ]
  },
  {
   "cell_type": "code",
   "execution_count": null,
   "id": "00294bfe-bd31-4f2e-a2a7-10d625afb01c",
   "metadata": {},
   "outputs": [],
   "source": []
  }
 ],
 "metadata": {
  "kernelspec": {
   "display_name": "pytorch",
   "language": "python",
   "name": "pytorch"
  },
  "language_info": {
   "codemirror_mode": {
    "name": "ipython",
    "version": 3
   },
   "file_extension": ".py",
   "mimetype": "text/x-python",
   "name": "python",
   "nbconvert_exporter": "python",
   "pygments_lexer": "ipython3",
   "version": "3.11.6"
  }
 },
 "nbformat": 4,
 "nbformat_minor": 5
}
